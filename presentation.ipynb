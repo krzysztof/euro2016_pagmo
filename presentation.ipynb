{
 "cells": [
  {
   "cell_type": "markdown",
   "metadata": {
    "slideshow": {
     "slide_type": "slide"
    }
   },
   "source": [
    "# PaGMO: Parallel Global Multiobjective Optimizer\n",
    "*Marcus Märtens, Krzysztof Nowak, Dario Izzo*"
   ]
  },
  {
   "cell_type": "markdown",
   "metadata": {
    "slideshow": {
     "slide_type": "-"
    }
   },
   "source": [
    "![\"PaGMO logo\"](http://esa.github.io/pygmo/_images/logo.png \"PaGMO logo\")"
   ]
  },
  {
   "cell_type": "markdown",
   "metadata": {
    "collapsed": true,
    "slideshow": {
     "slide_type": "slide"
    }
   },
   "source": [
    "# What is it?\n",
    "* **PaGMO**: Optimization library written in C++\n",
    "* **PyGMO**: Python interface for easy use and rapid prototyping\n",
    "* Cross-plattform: Available for OSX, Windows and Linux\n",
    "\n",
    "Developed by the *PaGMO Foundation* in collaboration with the *European Space Agency (ESA)*\n",
    "\n",
    "http://esa.github.io/pygmo/index.html\n",
    "\n",
    "The slides of this presentation are online as well:\n",
    "\n",
    "http://esa.github.io/pygmo/presentations/slides.html"
   ]
  },
  {
   "cell_type": "markdown",
   "metadata": {
    "slideshow": {
     "slide_type": "slide"
    }
   },
   "source": [
    "# Main features\n",
    "\n",
    "* Rich collection of optimization **benchmark problems** and **bio-inspired evolutionary algorithms**\n",
    "  * ZDT, DTLZ, CEC, De Jong, Griewank, Rosenbrock, Schwefel, Rastrigin, etc.\n",
    "* Features for **single-objective, multi-objective** and **stochastic** optimization\n",
    "* **Constraint-handling techniques**\n",
    "  * Death-penalty, Self-adaptive penalty, Co-evolution, Repair methods, Immune system, etc.\n",
    "* Fast **hypervolume** computations\n",
    "* **Racing** techniques to improve efficiency\n",
    "* Coarse grained parallelization model: **the island model** which allows for **asynchronous migration** operations"
   ]
  },
  {
   "cell_type": "markdown",
   "metadata": {
    "slideshow": {
     "slide_type": "subslide"
    }
   },
   "source": [
    "## Included problems\n",
    "\n",
    "### Box-constrained Continuous Single-objective\n",
    "* Ackley\n",
    "* Bukin F6\n",
    "* Branin\n",
    "* CEC2013\n",
    "* De Jong\n",
    "* Griewank\n",
    "* Himmelblau\n",
    "* Lennard-Jones\n",
    "* Michalewicz\n",
    "* Rosenbrock\n",
    "* Rastrigin\n",
    "* Schwefel\n",
    "* MGA-1DSM\n",
    "* Cassini 1 & 2\n",
    "* Rosetta\n",
    "* Tandem\n",
    "* Laplace\n",
    "* ..."
   ]
  },
  {
   "cell_type": "markdown",
   "metadata": {
    "slideshow": {
     "slide_type": "subslide"
    }
   },
   "source": [
    "### Constrained Continuous Single-objective\n",
    "\n",
    "* CEC2006\n",
    "* Pressure vessel design\n",
    "* Welded beam design\n",
    "* Tension compression string design\n",
    "* Luksan Vlcek 1,2 & 3\n",
    "* Planet to Planet LT Transfer\n",
    "* SNOPT Toy problem\n",
    "* GTOC 2\n",
    "* ...\n",
    "\n",
    "### Constrained Continous Multi-objective\n",
    "\n",
    "* CEC2009(CF1-CF10)"
   ]
  },
  {
   "cell_type": "markdown",
   "metadata": {
    "slideshow": {
     "slide_type": "subslide"
    }
   },
   "source": [
    "### Box-Constrained Continuous Multi-objective\n",
    "\n",
    "* Kursawe's study\n",
    "* Fonseca and Flemengs's study\n",
    "* Poloni's study\n",
    "* Shaffer's study\n",
    "* ZDT\n",
    "* DTLZ\n",
    "* CEC2009 (UF1-UF10)\n",
    "* MGA-1DSM\n",
    "* Cassini 1\n",
    "* ..."
   ]
  },
  {
   "cell_type": "markdown",
   "metadata": {
    "slideshow": {
     "slide_type": "subslide"
    }
   },
   "source": [
    "## Included algorithms\n",
    "\n",
    "### Global Optimization\n",
    "\n",
    "* Differential Evolution (DE) various variants\n",
    "* Self-adaptive DE (jDE)\n",
    "* Particle Swarm Optimization (PSO)\n",
    "* Simple Genetic Algorithm (SGA)\t\n",
    "* Vector Evaluated Genetic Algorithm (VEGA)\n",
    "* (N+1)-EA Evol. Algorithm (SEA)\n",
    "* Non-dominated Sorting GA (NSGA-II)\n",
    "* S-Metric Selection EMOA (SMS-EMOA)\n",
    "* Corana’s Simulated Annealing (SA)\n",
    "* Parallel Decomposition (PADE)\n",
    "* Non-dominated Sorting PSO (NSPSO)\n",
    "* Strength Pareto EA 2 (SPEA2)\n",
    "* Artificial Bee Colony (ABC)\n",
    "* Improved Harmony Search (IHS)\n",
    "* Monte Carlo Search (MC)\n",
    "* Covariance Matrix Adaptation-ES (CMA-ES)\n",
    "* ..."
   ]
  },
  {
   "cell_type": "markdown",
   "metadata": {
    "slideshow": {
     "slide_type": "subslide"
    }
   },
   "source": [
    "### Local optimization\n",
    "\n",
    "* Compass Search (CS)\n",
    "* Nelder-mead (simplex, subplex)\n",
    "* BFGS, BFGS2\n",
    "* Sequentieal Least Squares\n",
    "* Truncated Newton Method\n",
    "* Conjugate Gradient\n",
    "* COBYLA\n",
    "* BOBYQA\n",
    "* Method of Moving Asymptotes\n",
    "* SNOPT (interface for 3rd party code)\n",
    "* IPOPT (interface for 3rd party code)\n",
    "* ..."
   ]
  },
  {
   "cell_type": "markdown",
   "metadata": {
    "collapsed": true,
    "slideshow": {
     "slide_type": "slide"
    }
   },
   "source": [
    "# Basic Workflow\n",
    "\n",
    "Include the library in your IPython session:"
   ]
  },
  {
   "cell_type": "code",
   "execution_count": 2,
   "metadata": {
    "collapsed": false,
    "slideshow": {
     "slide_type": "-"
    }
   },
   "outputs": [],
   "source": [
    "from PyGMO import *\n",
    "import matplotlib.pylab as plt\n",
    "%matplotlib inline"
   ]
  },
  {
   "cell_type": "markdown",
   "metadata": {
    "slideshow": {
     "slide_type": "subslide"
    }
   },
   "source": [
    "Write your optimization problem in C++ or Python (easy!)\n",
    "\n",
    "We pick a predefined problem out of the library for demonstration"
   ]
  },
  {
   "cell_type": "code",
   "execution_count": 3,
   "metadata": {
    "collapsed": false,
    "slideshow": {
     "slide_type": "fragment"
    }
   },
   "outputs": [
    {
     "name": "stdout",
     "output_type": "stream",
     "text": [
      "Problem name: DTLZ3\n",
      "\tGlobal dimension:\t\t\t12\n",
      "\tInteger dimension:\t\t\t0\n",
      "\tFitness dimension:\t\t\t3\n",
      "\tConstraints dimension:\t\t\t0\n",
      "\tInequality constraints dimension:\t0\n",
      "\tLower bounds: [0, 0, 0, 0, 0,  ... ]\n",
      "\tUpper bounds: [1, 1, 1, 1, 1,  ... ]\n",
      "\tConstraints tolerance: []\n",
      "\n"
     ]
    }
   ],
   "source": [
    "prob = problem.dtlz(3)\n",
    "print(prob)"
   ]
  },
  {
   "cell_type": "markdown",
   "metadata": {
    "slideshow": {
     "slide_type": "fragment"
    }
   },
   "source": [
    "Take a solver out of the library, for example NSGA-II"
   ]
  },
  {
   "cell_type": "code",
   "execution_count": 4,
   "metadata": {
    "collapsed": false,
    "slideshow": {
     "slide_type": "fragment"
    }
   },
   "outputs": [
    {
     "name": "stdout",
     "output_type": "stream",
     "text": [
      "Algorithm name: Nondominated Sorting Genetic Algorithm II (NSGA-II) - gen:10 cr:0.95 eta_c:10 m:0.01 eta_m:10\n",
      "\n"
     ]
    }
   ],
   "source": [
    "alg = algorithm.nsga_II(gen=10)\n",
    "print(alg)"
   ]
  },
  {
   "cell_type": "markdown",
   "metadata": {
    "slideshow": {
     "slide_type": "subslide"
    }
   },
   "source": [
    "Put both of them on an island with a population of 100..."
   ]
  },
  {
   "cell_type": "code",
   "execution_count": 5,
   "metadata": {
    "collapsed": true,
    "slideshow": {
     "slide_type": "fragment"
    }
   },
   "outputs": [],
   "source": [
    "isl = island(alg, prob, 100)"
   ]
  },
  {
   "cell_type": "markdown",
   "metadata": {
    "slideshow": {
     "slide_type": "fragment"
    }
   },
   "source": [
    "... and start the evolution!"
   ]
  },
  {
   "cell_type": "code",
   "execution_count": 6,
   "metadata": {
    "collapsed": true,
    "slideshow": {
     "slide_type": "fragment"
    }
   },
   "outputs": [],
   "source": [
    "isl.evolve(100)"
   ]
  },
  {
   "cell_type": "markdown",
   "metadata": {
    "slideshow": {
     "slide_type": "subslide"
    }
   },
   "source": [
    "After the optimizer finished its 100 evolution steps, we can visualize how far the population has converged to the Pareto-front:"
   ]
  },
  {
   "cell_type": "code",
   "execution_count": 7,
   "metadata": {
    "collapsed": false,
    "slideshow": {
     "slide_type": "fragment"
    }
   },
   "outputs": [
    {
     "data": {
      "image/png": "[encoded data removed]",
      "text/plain": [
       "<matplotlib.figure.Figure at 0x8aa6828>"
      ]
     },
     "metadata": {},
     "output_type": "display_data"
    }
   ],
   "source": [
    "prob.plot(isl.population)\n",
    "plt.show()"
   ]
  },
  {
   "cell_type": "markdown",
   "metadata": {
    "slideshow": {
     "slide_type": "subslide"
    }
   },
   "source": [
    "We can further analyze the solution by computing quality metrics like fitness evaluations or average distance to the Pareto-Front:"
   ]
  },
  {
   "cell_type": "code",
   "execution_count": 8,
   "metadata": {
    "collapsed": false,
    "slideshow": {
     "slide_type": "fragment"
    }
   },
   "outputs": [
    {
     "name": "stdout",
     "output_type": "stream",
     "text": [
      "Fitness evaluations: 99377\n",
      "Distance to Pareto-front: 0.0004189772748457443\n"
     ]
    }
   ],
   "source": [
    "print(\"Fitness evaluations:\", isl.problem.fevals)\n",
    "print(\"Distance to Pareto-front:\", prob.p_distance(isl.population))"
   ]
  },
  {
   "cell_type": "markdown",
   "metadata": {
    "slideshow": {
     "slide_type": "fragment"
    }
   },
   "source": [
    "Given a reference point at (2.0, 2.0, 2.0) we can compute the hypervolume of this solution:"
   ]
  },
  {
   "cell_type": "code",
   "execution_count": 9,
   "metadata": {
    "collapsed": false,
    "slideshow": {
     "slide_type": "fragment"
    }
   },
   "outputs": [
    {
     "name": "stdout",
     "output_type": "stream",
     "text": [
      "Hypervolume indicator: 7.3681399274930275\n"
     ]
    }
   ],
   "source": [
    "ref = (2.0, 2.0, 2.0)\n",
    "hv = util.hypervolume(isl.population)\n",
    "print(\"Hypervolume indicator:\", hv.compute(ref))"
   ]
  },
  {
   "cell_type": "markdown",
   "metadata": {
    "slideshow": {
     "slide_type": "slide"
    }
   },
   "source": [
    "# Custom problems in Python\n",
    "\n",
    "Require only a couple of lines:"
   ]
  },
  {
   "cell_type": "code",
   "execution_count": 10,
   "metadata": {
    "collapsed": false,
    "slideshow": {
     "slide_type": "-"
    }
   },
   "outputs": [],
   "source": [
    "from PyGMO.problem import base\n",
    "class my_mo_problem(base):\n",
    "    \"\"\"\n",
    "    A multi-objective problem.\n",
    "    (This is actually a Python implementation of 2-dimensional ZDT-1 problem)\n",
    "    \"\"\"\n",
    "\n",
    "    def __init__(self, dim=2):\n",
    "        # Base constructor as 'dim' dimensional problem, with 0 integer parts and 2 objectives.\n",
    "        super(my_mo_problem,self).__init__(dim, 0, 2)\n",
    "        self.set_bounds(0.0, 1.0)\n",
    "\n",
    "    # Reimplement the virtual method that defines the objective function\n",
    "    def _objfun_impl(self, x):\n",
    "        f0 = x[0]\n",
    "        g = 1.0 + 4.5 * x[1]\n",
    "        f1 = g * (1.0 - sqrt(f0 / g))\n",
    "        return (f0, f1)\n",
    "\n",
    "    # Add some output to __repr__\n",
    "    def human_readable_extra(self):\n",
    "        return \"\\n\\tMulti-Objective problem\""
   ]
  },
  {
   "cell_type": "markdown",
   "metadata": {
    "slideshow": {
     "slide_type": "slide"
    }
   },
   "source": [
    "# Decomposition\n",
    "\n",
    "* Any **multi-objective** problem can be decomposed by PaGMO into several **single-objective** problems\n",
    "* The final solution is the **union** of all single-objective solutions\n",
    "* Each single-objective problem is solved in **parallel** by using multi-processing\n",
    "\n",
    "\n",
    "* We can use the algorithm **PaDe** to do exactly that:\n",
    "\n",
    "Mambrini, Andrea, and Dario Izzo. *\"PaDe: a parallel algorithm based on the MOEA/D framework and the island model.\"* Parallel Problem Solving from Nature–PPSN XIII. Springer International Publishing, 2014. 711-720."
   ]
  },
  {
   "cell_type": "markdown",
   "metadata": {
    "slideshow": {
     "slide_type": "subslide"
    }
   },
   "source": [
    "The diversity of the solution by NSGA-II was not very good. Let us improve on this aspect by the use of decomposition!"
   ]
  },
  {
   "cell_type": "code",
   "execution_count": 11,
   "metadata": {
    "collapsed": false,
    "slideshow": {
     "slide_type": "-"
    }
   },
   "outputs": [
    {
     "data": {
      "image/png": "[encoded data removed]",
      "text/plain": [
       "<matplotlib.figure.Figure at 0x8f73fd0>"
      ]
     },
     "metadata": {},
     "output_type": "display_data"
    }
   ],
   "source": [
    "prob = problem.dtlz(3)\n",
    "alg = algorithm.pade(gen = 10, decomposition = 'tchebycheff', weights='grid')\n",
    "pop = population(prob,105)\n",
    "pop = alg.evolve(pop)\n",
    "_ = prob.plot(pop)"
   ]
  },
  {
   "cell_type": "code",
   "execution_count": 12,
   "metadata": {
    "collapsed": false,
    "slideshow": {
     "slide_type": "-"
    }
   },
   "outputs": [
    {
     "name": "stdout",
     "output_type": "stream",
     "text": [
      "Fitness evaluations: 210\n",
      "Distance to Pareto-front: 3.751665644813329e-11\n"
     ]
    }
   ],
   "source": [
    "print(\"Fitness evaluations:\", pop.problem.fevals)\n",
    "print(\"Distance to Pareto-front:\", prob.p_distance(pop))"
   ]
  },
  {
   "cell_type": "markdown",
   "metadata": {
    "slideshow": {
     "slide_type": "slide"
    }
   },
   "source": [
    "# Parallelism in PaGMO\n",
    "\n",
    "* Coarse grained optimization: **Island Model**\n",
    "    * Each island encapsulates a **population** which is used by evolutionary solvers\n",
    "    * An island is managed by one unit of computation, i.e. a node in a cluster, a process or a thread\n",
    "\n",
    "\n",
    "* Islands are connected in a topology that allows for sporadic exchange of solutions, called **migration**\n",
    "    * Migration can be beneficial for solving optimization problems\n",
    "    * Populations stuck in local optima may move out again by receiving migrants\n",
    "\n",
    "\n",
    "* Parallelism is transparent to the user and absurdly easy to use\n",
    "    "
   ]
  },
  {
   "cell_type": "markdown",
   "metadata": {
    "slideshow": {
     "slide_type": "subslide"
    }
   },
   "source": [
    "**Note:** Each algorithm and problem is well-documented in PaGMO. You review the definition of a problem or the parameters of an algorithm by the ?-operator in an IPython-shell:"
   ]
  },
  {
   "cell_type": "code",
   "execution_count": 13,
   "metadata": {
    "collapsed": false,
    "slideshow": {
     "slide_type": "subslide"
    }
   },
   "outputs": [],
   "source": [
    "algorithm.de?"
   ]
  },
  {
   "cell_type": "markdown",
   "metadata": {
    "slideshow": {
     "slide_type": "-"
    }
   },
   "source": [
    "```\n",
    "Constructs a Differential Evolution algorithm:\n",
    "USAGE: algorithm.de(gen=1, f=0.5, cr=0.9, variant=2, ftol=1e-6, xtol=1e-6, \n",
    "                    screen_output = False)\n",
    "\n",
    "* gen: number of generations\n",
    "* f: weighting factor in [0,1] (if -1 self-adptation is used)\n",
    "* cr: crossover in [0,1] (if -1 self-adptation is used)\n",
    "* variant: algoritmic variant to use (one of [1 .. 10])\n",
    "        1. DE/best/1/exp\n",
    "        2. DE/rand/1/exp\n",
    "        3. DE/rand-to-best/1/exp\n",
    "        4. DE/best/2/exp\n",
    "        5. DE/rand/2/exp\n",
    "        6. DE/best/1/bin\n",
    "        7. DE/rand/1/bin\n",
    "        8. DE/rand-to-best/1/bin\n",
    "        9. DE/best/2/bin\n",
    "        10. DE/rand/2/bin\n",
    "* ftol stop criteria on f\n",
    "* xtol stop criteria on x\n",
    "```"
   ]
  },
  {
   "cell_type": "markdown",
   "metadata": {
    "slideshow": {
     "slide_type": "subslide"
    }
   },
   "source": [
    "Let us figure out, which variant of differential evolution (DE) works best by running them in parallel!"
   ]
  },
  {
   "cell_type": "code",
   "execution_count": 14,
   "metadata": {
    "collapsed": false,
    "slideshow": {
     "slide_type": "fragment"
    }
   },
   "outputs": [],
   "source": [
    "prob = problem.ackley()\n",
    "pop = population(prob, 100)\n",
    "archi = archipelago()\n",
    "for i in range(4, 11):\n",
    "    alg = algorithm.de(gen = 1, variant = i)\n",
    "    archi.push_back(island(alg, pop))"
   ]
  },
  {
   "cell_type": "markdown",
   "metadata": {},
   "source": [
    "![\"alttext\"](https://esa.github.io/pagmo/ackley.gif \"Ackley Function\")\n"
   ]
  },
  {
   "cell_type": "markdown",
   "metadata": {
    "slideshow": {
     "slide_type": "subslide"
    }
   },
   "source": [
    "The archipelago is a collection of islands. We can plot the archipelago by using the draw-command:"
   ]
  },
  {
   "cell_type": "code",
   "execution_count": 15,
   "metadata": {
    "collapsed": false,
    "slideshow": {
     "slide_type": "fragment"
    }
   },
   "outputs": [
    {
     "data": {
      "image/png": "[encoded data removed]",
      "text/plain": [
       "<matplotlib.figure.Figure at 0x29978>"
      ]
     },
     "metadata": {},
     "output_type": "display_data"
    }
   ],
   "source": [
    "pos = archi.draw(n_size=200, n_color = 'fitness')"
   ]
  },
  {
   "cell_type": "markdown",
   "metadata": {
    "slideshow": {
     "slide_type": "fragment"
    }
   },
   "source": [
    "The color is scaled according to the fitness of the *best solution* of each island **relative** to all other islands. Brighter colors mean better fitness **relative** to other islands."
   ]
  },
  {
   "cell_type": "markdown",
   "metadata": {
    "slideshow": {
     "slide_type": "subslide"
    }
   },
   "source": [
    "Let us evolve the archipelago now for 10 steps:"
   ]
  },
  {
   "cell_type": "code",
   "execution_count": 16,
   "metadata": {
    "collapsed": false,
    "slideshow": {
     "slide_type": "fragment"
    }
   },
   "outputs": [
    {
     "data": {
      "image/png": "[encoded data removed]",
      "text/plain": [
       "<matplotlib.figure.Figure at 0xf3828>"
      ]
     },
     "metadata": {},
     "output_type": "display_data"
    }
   ],
   "source": [
    "archi.evolve(10)\n",
    "_ = archi.draw(layout = pos, n_size=200, n_color = 'fitness')"
   ]
  },
  {
   "cell_type": "code",
   "execution_count": 17,
   "metadata": {
    "collapsed": false,
    "slideshow": {
     "slide_type": "fragment"
    }
   },
   "outputs": [
    {
     "name": "stdout",
     "output_type": "stream",
     "text": [
      "Island(0): 11.97926\n",
      "Island(1): 14.28453\n",
      "Island(2): 11.86857\n",
      "Island(3): 14.79514\n",
      "Island(4): 12.28186\n",
      "Island(5): 13.80271\n",
      "Island(6): 15.28630\n"
     ]
    }
   ],
   "source": [
    "for i, isl in enumerate(archi):\n",
    "    print(\"Island({0}): {1:0.5f}\".format(i, isl.population.champion.f[0]))  "
   ]
  },
  {
   "cell_type": "markdown",
   "metadata": {
    "slideshow": {
     "slide_type": "subslide"
    }
   },
   "source": [
    "For another 100 steps:"
   ]
  },
  {
   "cell_type": "code",
   "execution_count": 18,
   "metadata": {
    "collapsed": false,
    "slideshow": {
     "slide_type": "-"
    }
   },
   "outputs": [
    {
     "data": {
      "image/png": "[encoded data removed]",
      "text/plain": [
       "<matplotlib.figure.Figure at 0x157eb8>"
      ]
     },
     "metadata": {},
     "output_type": "display_data"
    }
   ],
   "source": [
    "archi.evolve(100)\n",
    "_ = archi.draw(layout = pos, n_size=200, n_color = 'fitness')"
   ]
  },
  {
   "cell_type": "code",
   "execution_count": 19,
   "metadata": {
    "collapsed": false,
    "slideshow": {
     "slide_type": "-"
    }
   },
   "outputs": [
    {
     "name": "stdout",
     "output_type": "stream",
     "text": [
      "Island(0): 5.58691\n",
      "Island(1): 6.73092\n",
      "Island(2): 0.18177\n",
      "Island(3): 5.01175\n",
      "Island(4): 0.14178\n",
      "Island(5): 8.73333\n",
      "Island(6): 9.59547\n"
     ]
    }
   ],
   "source": [
    "for i, isl in enumerate(archi):\n",
    "    print(\"Island({0}): {1:0.5f}\".format(i, isl.population.champion.f[0]))"
   ]
  },
  {
   "cell_type": "markdown",
   "metadata": {
    "slideshow": {
     "slide_type": "subslide"
    }
   },
   "source": [
    "And for another 1000 steps:"
   ]
  },
  {
   "cell_type": "code",
   "execution_count": 20,
   "metadata": {
    "collapsed": false,
    "slideshow": {
     "slide_type": "-"
    }
   },
   "outputs": [
    {
     "data": {
      "image/png": "[encoded data removed]",
      "text/plain": [
       "<matplotlib.figure.Figure at 0x1a4ba8>"
      ]
     },
     "metadata": {},
     "output_type": "display_data"
    }
   ],
   "source": [
    "archi.evolve(1000)\n",
    "_ = archi.draw(layout = pos, n_size=200, n_color = 'fitness')"
   ]
  },
  {
   "cell_type": "code",
   "execution_count": 21,
   "metadata": {
    "collapsed": false,
    "slideshow": {
     "slide_type": "-"
    }
   },
   "outputs": [
    {
     "name": "stdout",
     "output_type": "stream",
     "text": [
      "Island(0): 0.00000\n",
      "Island(1): 0.00017\n",
      "Island(2): 0.00000\n",
      "Island(3): 0.00001\n",
      "Island(4): 0.00000\n",
      "Island(5): 0.02084\n",
      "Island(6): 1.79628\n"
     ]
    }
   ],
   "source": [
    "for i, isl in enumerate(archi):\n",
    "    print(\"Island({0}): {1:0.5f}\".format(i, isl.population.champion.f[0]))"
   ]
  },
  {
   "cell_type": "markdown",
   "metadata": {
    "slideshow": {
     "slide_type": "subslide"
    }
   },
   "source": [
    "## Migration in the island model\n",
    "\n",
    "* **Selection policy:** Which solutions shall be sent to other islands?\n",
    "* **Replacement policy:** Which solutions shall be replaced by immigrants from other islands? \n",
    "* **Migration topology:** How are islands connected?\n",
    "* **Migration interval:** How often does migration occur?"
   ]
  },
  {
   "cell_type": "code",
   "execution_count": 22,
   "metadata": {
    "collapsed": false,
    "slideshow": {
     "slide_type": "subslide"
    }
   },
   "outputs": [],
   "source": [
    "prob = problem.ackley()\n",
    "pop = population(prob, 100)\n",
    "\n",
    "# substitute best 10 individuals if better than the 10 worst\n",
    "s_pol = migration.best_s_policy(10)\n",
    "r_pol = migration.fair_r_policy(10)\n",
    "\n",
    "archi = archipelago(topology = topology.fully_connected())\n",
    "for i in range(4, 11):\n",
    "    alg = algorithm.de(gen = 1, variant = i)\n",
    "    archi.push_back(island(alg, pop, s_policy=s_pol, r_policy=r_pol))"
   ]
  },
  {
   "cell_type": "code",
   "execution_count": 23,
   "metadata": {
    "collapsed": false,
    "slideshow": {
     "slide_type": "-"
    }
   },
   "outputs": [
    {
     "data": {
      "image/png": "[encoded data removed]",
      "text/plain": [
       "<matplotlib.figure.Figure at 0x151588>"
      ]
     },
     "metadata": {},
     "output_type": "display_data"
    }
   ],
   "source": [
    "pos = archi.draw(n_size=200, n_color = 'fitness')"
   ]
  },
  {
   "cell_type": "markdown",
   "metadata": {
    "slideshow": {
     "slide_type": "subslide"
    }
   },
   "source": [
    "Now evolve this archipelago for 10 steps!"
   ]
  },
  {
   "cell_type": "code",
   "execution_count": 24,
   "metadata": {
    "collapsed": false,
    "slideshow": {
     "slide_type": "-"
    }
   },
   "outputs": [
    {
     "data": {
      "image/png": "[encoded data removed]",
      "text/plain": [
       "<matplotlib.figure.Figure at 0x271208>"
      ]
     },
     "metadata": {},
     "output_type": "display_data"
    }
   ],
   "source": [
    "archi.evolve(10)\n",
    "_ = archi.draw(layout = pos, n_size=200, n_color = 'fitness')"
   ]
  },
  {
   "cell_type": "code",
   "execution_count": 25,
   "metadata": {
    "collapsed": false,
    "slideshow": {
     "slide_type": "-"
    }
   },
   "outputs": [
    {
     "name": "stdout",
     "output_type": "stream",
     "text": [
      "Island(0): 11.08606\n",
      "Island(1): 13.03158\n",
      "Island(2): 11.14484\n",
      "Island(3): 11.50024\n",
      "Island(4): 8.59672\n",
      "Island(5): 11.52943\n",
      "Island(6): 13.03158\n"
     ]
    }
   ],
   "source": [
    "for i, isl in enumerate(archi):\n",
    "    print(\"Island({0}): {1:0.5f}\".format(i, isl.population.champion.f[0]))"
   ]
  },
  {
   "cell_type": "markdown",
   "metadata": {
    "slideshow": {
     "slide_type": "subslide"
    }
   },
   "source": [
    "And for another 100 steps!"
   ]
  },
  {
   "cell_type": "code",
   "execution_count": 26,
   "metadata": {
    "collapsed": false,
    "slideshow": {
     "slide_type": "-"
    }
   },
   "outputs": [
    {
     "data": {
      "image/png": "[encoded data removed]",
      "text/plain": [
       "<matplotlib.figure.Figure at 0x2c6668>"
      ]
     },
     "metadata": {},
     "output_type": "display_data"
    }
   ],
   "source": [
    "archi.evolve(100)\n",
    "_ = archi.draw(layout = pos, n_size=200, n_color = 'fitness')"
   ]
  },
  {
   "cell_type": "markdown",
   "metadata": {
    "slideshow": {
     "slide_type": "subslide"
    }
   },
   "source": [
    "The **relative coloring** is misleading here. In fact, thanks to migration, all islands have already converged very close to the optimum. Even the island with the suboptimal variant of DE is close to optimal, which can be checked by comparing the actual fitness for each island:"
   ]
  },
  {
   "cell_type": "code",
   "execution_count": 27,
   "metadata": {
    "collapsed": false,
    "scrolled": true,
    "slideshow": {
     "slide_type": "-"
    }
   },
   "outputs": [
    {
     "name": "stdout",
     "output_type": "stream",
     "text": [
      "Island(0): 0.00040\n",
      "Island(1): 0.00070\n",
      "Island(2): 0.00008\n",
      "Island(3): 0.00034\n",
      "Island(4): 0.00010\n",
      "Island(5): 0.00041\n",
      "Island(6): 0.00047\n"
     ]
    }
   ],
   "source": [
    "for i, isl in enumerate(archi):\n",
    "    print(\"Island({0}): {1:0.5f}\".format(i, isl.population.champion.f[0]))"
   ]
  },
  {
   "cell_type": "markdown",
   "metadata": {
    "slideshow": {
     "slide_type": "subslide"
    }
   },
   "source": [
    "## Monitoring the information flow in a large archipelago"
   ]
  },
  {
   "cell_type": "markdown",
   "metadata": {
    "slideshow": {
     "slide_type": "-"
    }
   },
   "source": [
    "![\"alttext\"](http://esa.github.io/pygmo/_images/movie.gif \"Information flow\")"
   ]
  },
  {
   "cell_type": "markdown",
   "metadata": {
    "slideshow": {
     "slide_type": "-"
    }
   },
   "source": [
    "Once an optimal solution is found, it spreads through the archipelago, taking over most of the islands."
   ]
  },
  {
   "cell_type": "markdown",
   "metadata": {
    "slideshow": {
     "slide_type": "subslide"
    }
   },
   "source": [
    "## More remarks on migration\n",
    "\n",
    "* Migration is implemented **asynchronously** in PaGMO\n",
    "    * Island do not synchronize\n",
    "    * Migrants are processed once they show up in the migrant buffer of an island\n",
    "\n",
    "\n",
    "* Migration is possible for multi-objective problems as well\n",
    "    * Selection and replacement policies work by **crowding distance** or **hypervolume**\n",
    "    \n",
    "    \n",
    "* **Migration-mixing** (different solvers for one problem) might improve convergence speed or even solution quality\n",
    "\n",
    "\n",
    "* Migration for **multistart**\n",
    "    * Often, solvers are run for 100 times for statistics and due their *randomness*\n",
    "    * This can be done with no overhead by a disconnected archipelago\n"
   ]
  },
  {
   "cell_type": "markdown",
   "metadata": {
    "slideshow": {
     "slide_type": "slide"
    }
   },
   "source": [
    "# Hypervolume and Many-objective optimization\n",
    "\n",
    "* PaGMO implements several state-of-the-art algorithms for computing:\n",
    "    * Hypervolume indicator\n",
    "    * Exclusive contributions of points\n",
    "    * Least- and Greatest Contributors\n",
    "    \n",
    "\n",
    "* The fastest algorithm for the given task is selected **automatically**\n",
    "\n",
    "\n",
    "* Emmerich, Michael TM, and Carlos M. Fonseca. *\"Computing hypervolume contributions in low dimensions: Asymptotically optimal algorithm and complexity results.\"* Evolutionary Multi-Criterion Optimization. Springer Berlin Heidelberg, 2011.\n",
    "* While, Lyndon, Lucas Bradstreet, and Luigi Barone. *\"A fast way of calculating exact hypervolumes.\"* Evolutionary Computation, IEEE Transactions on 16.1 (2012): 86-95.\n",
    "* Guerreiro, Andreia P., Carlos M. Fonseca, and Michael TM Emmerich. *\"A Fast Dimension-Sweep Algorithm for the Hypervolume Indicator in Four Dimensions.\"* CCCG. 2012.\n",
    "* Fonseca, Carlos M., Luís Paquete, and Manuel López-Ibánez. *\"An improved dimension-sweep algorithm for the hypervolume indicator.\"* Evolutionary Computation, 2006. CEC 2006. IEEE Congress on. IEEE, 2006.\n",
    "    "
   ]
  },
  {
   "cell_type": "markdown",
   "metadata": {
    "slideshow": {
     "slide_type": "subslide"
    }
   },
   "source": [
    "The hypervolume can be computed on a set of points..."
   ]
  },
  {
   "cell_type": "code",
   "execution_count": 28,
   "metadata": {
    "collapsed": false,
    "slideshow": {
     "slide_type": "-"
    }
   },
   "outputs": [
    {
     "name": "stdout",
     "output_type": "stream",
     "text": [
      "240.0\n"
     ]
    }
   ],
   "source": [
    "points = [(3,4,5),(4,5,6),(6,7,8),(5,2,7)]\n",
    "ref = (10,10,10)\n",
    "hv = util.hypervolume(points)\n",
    "print(hv.compute(ref))"
   ]
  },
  {
   "cell_type": "markdown",
   "metadata": {
    "slideshow": {
     "slide_type": "subslide"
    }
   },
   "source": [
    "... or by the fitness-vectors of any multi-objective population:"
   ]
  },
  {
   "cell_type": "code",
   "execution_count": 29,
   "metadata": {
    "collapsed": false,
    "slideshow": {
     "slide_type": "-"
    }
   },
   "outputs": [
    {
     "name": "stdout",
     "output_type": "stream",
     "text": [
      "Problem name: DTLZ3\n",
      "\tGlobal dimension:\t\t\t14\n",
      "\tInteger dimension:\t\t\t0\n",
      "\tFitness dimension:\t\t\t5\n",
      "\tConstraints dimension:\t\t\t0\n",
      "\tInequality constraints dimension:\t0\n",
      "\tLower bounds: [0, 0, 0, 0, 0,  ... ]\n",
      "\tUpper bounds: [1, 1, 1, 1, 1,  ... ]\n",
      "\tConstraints tolerance: []\n",
      "\n"
     ]
    }
   ],
   "source": [
    "prob = problem.dtlz(3, fdim=5)\n",
    "print(prob)"
   ]
  },
  {
   "cell_type": "code",
   "execution_count": 30,
   "metadata": {
    "collapsed": false,
    "slideshow": {
     "slide_type": "-"
    }
   },
   "outputs": [
    {
     "name": "stdout",
     "output_type": "stream",
     "text": [
      "Hypervolume indicator:  1934682834155372.2\n",
      "Exclusive contribution of point 0: 0.0\n",
      "Exclusive contribution of point 1: 0.0\n",
      "Exclusive contribution of point 2: 0.0\n",
      "Exclusive contribution of point 3: 2445785139707.25\n"
     ]
    }
   ],
   "source": [
    "pop = population(prob, 100)\n",
    "hv = util.hypervolume(pop)\n",
    "ref = hv.get_nadir_point(1)\n",
    "print(\"Hypervolume indicator: \", hv.compute(ref))\n",
    "for i in range(4):\n",
    "    print(\"Exclusive contribution of point {0}: {1}\".format(i, hv.exclusive(i, ref)))"
   ]
  },
  {
   "cell_type": "markdown",
   "metadata": {
    "slideshow": {
     "slide_type": "subslide"
    }
   },
   "source": [
    "The computational complexity of the hypervolume indicator scales exponentially with the number of dimensions:"
   ]
  },
  {
   "cell_type": "markdown",
   "metadata": {
    "slideshow": {
     "slide_type": "-"
    }
   },
   "source": [
    "![\"Hypervolume indicator\"](http://esa.github.io/pygmo/_images/hv_compute_runtime_plot.png)"
   ]
  },
  {
   "cell_type": "markdown",
   "metadata": {
    "slideshow": {
     "slide_type": "subslide"
    }
   },
   "source": [
    "For higher dimensions, the problem of computing the hypervolume becomes intractable. PaGMO implements the FPRAS von Bringmann and Friedrich for this case:\n",
    "\n",
    "* Bringmann, Karl, and Tobias Friedrich. \"Approximating the volume of unions and intersections of high-dimensional geometric objects.\" Algorithms and Computation. Springer Berlin Heidelberg, 2008. 436-447."
   ]
  },
  {
   "cell_type": "markdown",
   "metadata": {
    "slideshow": {
     "slide_type": "-"
    }
   },
   "source": [
    "![\"FPRAS\"](http://esa.github.io/pygmo/_images/hv_fpras_extreme.png)"
   ]
  },
  {
   "cell_type": "markdown",
   "metadata": {
    "slideshow": {
     "slide_type": "slide"
    }
   },
   "source": [
    "# PaGMO applied: spacecraft trajectory optimization\n",
    "\n",
    "* The MGA-1DSM can be used to encode a trajectory with \n",
    "    * multiple gravity assists (MGA)\n",
    "    * and 1 deep space maneouver (1DSM)\n",
    "    "
   ]
  },
  {
   "cell_type": "markdown",
   "metadata": {
    "slideshow": {
     "slide_type": "subslide"
    }
   },
   "source": [
    "* We need to define:\n",
    "    * The sequence of planets that we want to visit\n",
    "    * The time window for the launch\n",
    "    * The initial velocity provided by the launching system\n",
    "    * Bounds on the transfer-time between the planets (legs)"
   ]
  },
  {
   "cell_type": "code",
   "execution_count": 31,
   "metadata": {
    "collapsed": true,
    "slideshow": {
     "slide_type": "-"
    }
   },
   "outputs": [],
   "source": [
    "from PyKEP import *"
   ]
  },
  {
   "cell_type": "code",
   "execution_count": 32,
   "metadata": {
    "collapsed": true,
    "slideshow": {
     "slide_type": "-"
    }
   },
   "outputs": [],
   "source": [
    "seq = [planet.jpl_lp('earth'), planet.jpl_lp('venus'), planet.jpl_lp('venus'), planet.jpl_lp('mercury')]\n",
    "t_start = epoch_from_string('2020-01-01 0:0:0')\n",
    "t_end = epoch_from_string('2024-12-31 23:59:59')\n",
    "t0 = [t_start, t_end]\n",
    "tof = [365.25, 365.25 * 5]"
   ]
  },
  {
   "cell_type": "code",
   "execution_count": 33,
   "metadata": {
    "collapsed": true,
    "slideshow": {
     "slide_type": "-"
    }
   },
   "outputs": [],
   "source": [
    "prob = problem.mga_1dsm_alpha(seq, t0, tof, multi_objective=False)"
   ]
  },
  {
   "cell_type": "markdown",
   "metadata": {
    "slideshow": {
     "slide_type": "subslide"
    }
   },
   "source": [
    "We want to find to find a couple of fuel-efficient solutions first in order to have seeds for the multi-objective optimization. For this purpose, we write a small function that runs an optimization and returns the best solution after convergence."
   ]
  },
  {
   "cell_type": "code",
   "execution_count": 34,
   "metadata": {
    "collapsed": true,
    "slideshow": {
     "slide_type": "-"
    }
   },
   "outputs": [],
   "source": [
    "def single_opt(prob):\n",
    "    \"\"\" Generating various single-objective solutions for seeding. \"\"\"\n",
    "    alg = algorithm.jde(gen = 1000)\n",
    "    pop = population(prob, 40)\n",
    "    fit = pop.champion.f[0] + 2000\n",
    "    while fit - pop.champion.f[0] > 1:\n",
    "        fit = pop.champion.f[0]\n",
    "        pop = alg.evolve(pop)\n",
    "    return pop.champion"
   ]
  },
  {
   "cell_type": "code",
   "execution_count": 35,
   "metadata": {
    "collapsed": true,
    "slideshow": {
     "slide_type": "-"
    }
   },
   "outputs": [],
   "source": [
    "# Note: This computation might take a couple of minutes\n",
    "champs = []\n",
    "for i in range(100):\n",
    "    champs.append(single_opt(prob))"
   ]
  },
  {
   "cell_type": "markdown",
   "metadata": {
    "slideshow": {
     "slide_type": "subslide"
    }
   },
   "source": [
    "We instantiate a new problem now, which is multi-objective. The first objective is fuel-consumption (for deep space maneouvers) and the second objective is total time of flight until arrival on Mercury."
   ]
  },
  {
   "cell_type": "code",
   "execution_count": 36,
   "metadata": {
    "collapsed": false,
    "scrolled": true,
    "slideshow": {
     "slide_type": "-"
    }
   },
   "outputs": [
    {
     "data": {
      "text/plain": [
       "<matplotlib.axes._subplots.AxesSubplot at 0x2db278>"
      ]
     },
     "execution_count": 36,
     "metadata": {},
     "output_type": "execute_result"
    },
    {
     "data": {
      "image/png": "[encoded data removed]",
      "text/plain": [
       "<matplotlib.figure.Figure at 0x341320>"
      ]
     },
     "metadata": {},
     "output_type": "display_data"
    }
   ],
   "source": [
    "prob2 = problem.mga_1dsm_alpha(seq, t0, tof, multi_objective=True)\n",
    "pop = population(prob2)\n",
    "for c in champs:\n",
    "    pop.push_back(c.x)\n",
    "pop.plot_pareto_fronts()"
   ]
  },
  {
   "cell_type": "markdown",
   "metadata": {
    "slideshow": {
     "slide_type": "subslide"
    }
   },
   "source": [
    "A multi-objective solver (i.e. NSGA-II) can be used to advance this population towards the Pareto front of the problem."
   ]
  },
  {
   "cell_type": "code",
   "execution_count": 37,
   "metadata": {
    "collapsed": true,
    "slideshow": {
     "slide_type": "-"
    }
   },
   "outputs": [],
   "source": [
    "alg = algorithm.nsga_II(gen= 10000)\n",
    "isl = island(alg, pop)\n",
    "isl.evolve(1)"
   ]
  },
  {
   "cell_type": "code",
   "execution_count": 38,
   "metadata": {
    "collapsed": false,
    "slideshow": {
     "slide_type": "-"
    }
   },
   "outputs": [
    {
     "data": {
      "image/png": "[encoded data removed]",
      "text/plain": [
       "<matplotlib.figure.Figure at 0x1a1978>"
      ]
     },
     "metadata": {},
     "output_type": "display_data"
    }
   ],
   "source": [
    "_ = isl.population.plot_pareto_fronts()\n",
    "_ = plt.xlabel('travel time in days')\n",
    "_ = plt.ylabel('$\\Delta V$')"
   ]
  },
  {
   "cell_type": "markdown",
   "metadata": {
    "slideshow": {
     "slide_type": "slide"
    }
   },
   "source": [
    "# A glimpse in the future\n",
    "\n",
    "Current stable version of PaGMO is 1.1.7.\n",
    "\n",
    "But PaGMO will soon evolve into PaGMO 2.0!\n",
    "\n",
    "A redesign from scratch has been started with the following goals in mind:\n",
    "* Header-only C++11 library for easy inclusion in C++ projects\n",
    "* Enhanced parallelization: cross plattform (OSX, Windows, Linux)\n",
    "* Enhanced clustering capabilities\n",
    "* Enhanced extensibility (Type erasure, no more inheritance for custom problems)"
   ]
  },
  {
   "cell_type": "markdown",
   "metadata": {
    "slideshow": {
     "slide_type": "slide"
    }
   },
   "source": [
    "# The End\n",
    "\n",
    "Some Links for you:\n",
    "\n",
    "* Documentation and Homepage: http://esa.github.io/pygmo/\n",
    "* Codebase: https://github.com/esa/pagmo\n",
    "* Releases: https://github.com/esa/pagmo/releases\n",
    "* Chat with the developers: https://gitter.im/esa/pagmo\n",
    "\n",
    "\n",
    "Contact us via eMail:\n",
    "\n",
    "* Marcus Märtens (mmarcusx@gmail.com)\n",
    "* Krzysztof Nowak (kn@linux.com)\n",
    "* Dario Izzo (dario.izzo@gmail.com)"
   ]
  }
 ],
 "metadata": {
  "celltoolbar": "Slideshow",
  "kernelspec": {
   "display_name": "Python 3",
   "language": "python",
   "name": "python3"
  },
  "language_info": {
   "codemirror_mode": {
    "name": "ipython",
    "version": 3
   },
   "file_extension": ".py",
   "mimetype": "text/x-python",
   "name": "python",
   "nbconvert_exporter": "python",
   "pygments_lexer": "ipython3",
   "version": "3.4.4"
  }
 },
 "nbformat": 4,
 "nbformat_minor": 0
}
